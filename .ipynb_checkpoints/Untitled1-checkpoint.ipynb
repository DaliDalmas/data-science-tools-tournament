{
 "cells": [
  {
   "cell_type": "code",
   "execution_count": 89,
   "id": "f2988e96-97fc-4f19-ab9a-bb5291cdc6dd",
   "metadata": {},
   "outputs": [],
   "source": [
    "import pandas as pd\n",
    "import random\n",
    "import logging\n",
    "\n",
    "def ingest_and_clean(link):\n",
    "    data = pd.read_excel(link)\n",
    "    return [d[0].upper() for d in data.values]\n",
    "\n",
    "def create_groups(list_of_items):\n",
    "    Groups = {}\n",
    "    list_of_items = list_of_items[:27]\n",
    "    items = list_of_items.copy()\n",
    "    for idx in range(len(list_of_items)):\n",
    "        selected_item = random.choice(items)\n",
    "        try:\n",
    "            Groups[chr(ord('@')+1+idx%8)]=\\\n",
    "            Groups[chr(ord('@')+1+idx%8)]+[selected_item]\n",
    "        except:\n",
    "            Groups[chr(ord('@')+1+idx%8)] = [selected_item]\n",
    "        items.remove(selected_item)\n",
    "    return Groups\n",
    "\n",
    "def make_groups_a_dataframe(groups):\n",
    "    try:\n",
    "        return pd.DataFrame(groups)\n",
    "    except Exception as e:\n",
    "        logging.error(e)\n",
    "        return None\n",
    "    \n",
    "# if __name__:'__main__':\n",
    "#     datalink = './Data science tool set copy.xlsx'\n",
    "#     groups_dict = create_groups(ingest_and_clean(datalink))\n",
    "#     groups_df = make_groups_a_dataframe(groups_dict)"
   ]
  },
  {
   "cell_type": "code",
   "execution_count": null,
   "id": "9a8bc58a-774b-4d2d-9a9d-1968ed876143",
   "metadata": {},
   "outputs": [],
   "source": []
  }
 ],
 "metadata": {
  "kernelspec": {
   "display_name": "Python 3 (ipykernel)",
   "language": "python",
   "name": "python3"
  },
  "language_info": {
   "codemirror_mode": {
    "name": "ipython",
    "version": 3
   },
   "file_extension": ".py",
   "mimetype": "text/x-python",
   "name": "python",
   "nbconvert_exporter": "python",
   "pygments_lexer": "ipython3",
   "version": "3.8.5"
  }
 },
 "nbformat": 4,
 "nbformat_minor": 5
}
