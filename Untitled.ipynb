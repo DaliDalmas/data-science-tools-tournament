{
 "cells": [
  {
   "cell_type": "code",
   "execution_count": 268,
   "id": "68a0ec82-8717-4d77-8b67-0ae1153e913a",
   "metadata": {},
   "outputs": [],
   "source": [
    "import pandas as pd\n",
    "import random\n",
    "import logging"
   ]
  },
  {
   "cell_type": "code",
   "execution_count": 269,
   "id": "86e43726-ef04-4ac7-8717-cef1bbf1fecc",
   "metadata": {},
   "outputs": [],
   "source": [
    "data = pd.read_excel('./Data science tool set.xlsx')"
   ]
  },
  {
   "cell_type": "code",
   "execution_count": 270,
   "id": "c805410b-7465-422a-97d9-d6634d74b320",
   "metadata": {},
   "outputs": [],
   "source": [
    "tools = [i.upper() for i in data['All tools'].values]"
   ]
  },
  {
   "cell_type": "code",
   "execution_count": 271,
   "id": "84cc9d41-6d6f-4aa4-b462-2d7347b6965b",
   "metadata": {},
   "outputs": [
    {
     "data": {
      "text/plain": [
       "8.0"
      ]
     },
     "execution_count": 271,
     "metadata": {},
     "output_type": "execute_result"
    }
   ],
   "source": [
    "# number of groups\n",
    "len(tools)/4"
   ]
  },
  {
   "cell_type": "code",
   "execution_count": 272,
   "id": "cff0cef5-cd9d-470d-9337-4b7bbdc93cc5",
   "metadata": {},
   "outputs": [],
   "source": [
    "Groups = {}\n",
    "items = tools.copy()\n",
    "random.seed(7)\n",
    "for idx in range(len(tools)):\n",
    "    selected_item = random.choice(items)\n",
    "    try:\n",
    "        Groups[chr(ord('@')+(1+int(idx%8)))] = Groups[chr(ord('@')+(1+int(idx%8)))]  + [selected_item]\n",
    "    except:\n",
    "        Groups[chr(ord('@')+(1+int(idx%8)))] = [selected_item]\n",
    "    items.remove(selected_item)"
   ]
  },
  {
   "cell_type": "code",
   "execution_count": 273,
   "id": "e427217b-3819-4ed4-a64c-876ce2364731",
   "metadata": {},
   "outputs": [
    {
     "data": {
      "text/plain": [
       "{'A': ['MONGODB', 'POSTGRESQL', 'JAVA', 'DATA WAREHOUSING'],\n",
       " 'B': ['CYTOSCAPE', 'KAFKA', 'CHARTIO', 'GOOGLE DATA STUDIO'],\n",
       " 'C': ['TSQL', 'ACCESS', 'POWEBI', 'GEPHI'],\n",
       " 'D': ['DATA LAKE', 'JAVASCRIPT', 'HADOOP', '.NET'],\n",
       " 'E': ['MS TEAMS', 'POWERPOINT', 'SPIDER', 'BASH'],\n",
       " 'F': ['SCALA', 'TABLEAU', 'SPREADSHEETS', 'SLACK'],\n",
       " 'G': ['JULIA', 'MYSQL', 'VSCODE', 'SPARK'],\n",
       " 'H': ['R', 'JUPYTER LAB', 'PYTHON', 'RABBITMQ']}"
      ]
     },
     "execution_count": 273,
     "metadata": {},
     "output_type": "execute_result"
    }
   ],
   "source": [
    "Groups"
   ]
  },
  {
   "cell_type": "code",
   "execution_count": 274,
   "id": "9c9e78f5-2c3f-43fd-8d7c-9e6538a3d6b3",
   "metadata": {},
   "outputs": [],
   "source": [
    "# refactor"
   ]
  },
  {
   "cell_type": "code",
   "execution_count": 275,
   "id": "d7a569d1-774b-440d-875b-9be65df33e51",
   "metadata": {},
   "outputs": [],
   "source": [
    "def ingest_and_clean(link,col):\n",
    "    \"\"\"\n",
    "    This function uses the supplied link to get excel document the\n",
    "    gets the column of items to be grouped.\n",
    "    The function returns a list of items to be grouped.\n",
    "    \"\"\"\n",
    "    try:\n",
    "        data = pd.read_excel(link)\n",
    "    except Exception as e:\n",
    "        logging.error(e)\n",
    "        return None\n",
    "    \n",
    "    return [i.upper() for i in data[col].values]\n",
    "\n",
    "\n",
    "\n",
    "def create_groups(list_of_items):\n",
    "    \"\"\"\n",
    "    This function gets the list of items groups the items\n",
    "    and retuns a dictionary of groups\n",
    "    \"\"\"\n",
    "    Groups = {}\n",
    "    items = list_of_items.copy()\n",
    "    random.seed(7)\n",
    "    for idx in range(len(list_of_items)):\n",
    "        selected_item = random.choice(items)\n",
    "        try:\n",
    "            Groups[chr(ord('@')+(1+int(idx%8)))] = Groups[chr(ord('@')+(1+int(idx%8)))]  + [selected_item]\n",
    "        except:\n",
    "            Groups[chr(ord('@')+(1+int(idx%8)))] = [selected_item]\n",
    "        items.remove(selected_item)\n",
    "    return Groups\n",
    "\n",
    "\n",
    "\n",
    "def make_groups_a_dataframe(groups):\n",
    "    \"\"\"\n",
    "    This function take a dictionary of groups and converts it into a dataframe.\n",
    "    I returns a pandas dataframe.\n",
    "    \"\"\"\n",
    "    try:\n",
    "        return pd.DataFrame(groups)\n",
    "    except Exception as e:\n",
    "        logging.error(e)\n",
    "        return None"
   ]
  },
  {
   "cell_type": "code",
   "execution_count": 276,
   "id": "fe9c61e3-71bd-4fde-b63e-e9c9efc2cbb8",
   "metadata": {},
   "outputs": [
    {
     "data": {
      "text/html": [
       "<div>\n",
       "<style scoped>\n",
       "    .dataframe tbody tr th:only-of-type {\n",
       "        vertical-align: middle;\n",
       "    }\n",
       "\n",
       "    .dataframe tbody tr th {\n",
       "        vertical-align: top;\n",
       "    }\n",
       "\n",
       "    .dataframe thead th {\n",
       "        text-align: right;\n",
       "    }\n",
       "</style>\n",
       "<table border=\"1\" class=\"dataframe\">\n",
       "  <thead>\n",
       "    <tr style=\"text-align: right;\">\n",
       "      <th></th>\n",
       "      <th>A</th>\n",
       "      <th>B</th>\n",
       "      <th>C</th>\n",
       "      <th>D</th>\n",
       "      <th>E</th>\n",
       "      <th>F</th>\n",
       "      <th>G</th>\n",
       "      <th>H</th>\n",
       "    </tr>\n",
       "  </thead>\n",
       "  <tbody>\n",
       "    <tr>\n",
       "      <th>0</th>\n",
       "      <td>MONGODB</td>\n",
       "      <td>CYTOSCAPE</td>\n",
       "      <td>TSQL</td>\n",
       "      <td>DATA LAKE</td>\n",
       "      <td>MS TEAMS</td>\n",
       "      <td>SCALA</td>\n",
       "      <td>JULIA</td>\n",
       "      <td>R</td>\n",
       "    </tr>\n",
       "    <tr>\n",
       "      <th>1</th>\n",
       "      <td>POSTGRESQL</td>\n",
       "      <td>KAFKA</td>\n",
       "      <td>ACCESS</td>\n",
       "      <td>JAVASCRIPT</td>\n",
       "      <td>POWERPOINT</td>\n",
       "      <td>TABLEAU</td>\n",
       "      <td>MYSQL</td>\n",
       "      <td>JUPYTER LAB</td>\n",
       "    </tr>\n",
       "    <tr>\n",
       "      <th>2</th>\n",
       "      <td>JAVA</td>\n",
       "      <td>CHARTIO</td>\n",
       "      <td>POWEBI</td>\n",
       "      <td>HADOOP</td>\n",
       "      <td>SPIDER</td>\n",
       "      <td>SPREADSHEETS</td>\n",
       "      <td>VSCODE</td>\n",
       "      <td>PYTHON</td>\n",
       "    </tr>\n",
       "    <tr>\n",
       "      <th>3</th>\n",
       "      <td>DATA WAREHOUSING</td>\n",
       "      <td>GOOGLE DATA STUDIO</td>\n",
       "      <td>GEPHI</td>\n",
       "      <td>.NET</td>\n",
       "      <td>BASH</td>\n",
       "      <td>SLACK</td>\n",
       "      <td>SPARK</td>\n",
       "      <td>RABBITMQ</td>\n",
       "    </tr>\n",
       "  </tbody>\n",
       "</table>\n",
       "</div>"
      ],
      "text/plain": [
       "                  A                   B       C           D           E  \\\n",
       "0           MONGODB           CYTOSCAPE    TSQL   DATA LAKE    MS TEAMS   \n",
       "1        POSTGRESQL               KAFKA  ACCESS  JAVASCRIPT  POWERPOINT   \n",
       "2              JAVA             CHARTIO  POWEBI      HADOOP      SPIDER   \n",
       "3  DATA WAREHOUSING  GOOGLE DATA STUDIO   GEPHI        .NET        BASH   \n",
       "\n",
       "              F       G            H  \n",
       "0         SCALA   JULIA            R  \n",
       "1       TABLEAU   MYSQL  JUPYTER LAB  \n",
       "2  SPREADSHEETS  VSCODE       PYTHON  \n",
       "3         SLACK   SPARK     RABBITMQ  "
      ]
     },
     "execution_count": 276,
     "metadata": {},
     "output_type": "execute_result"
    }
   ],
   "source": [
    "make_groups_a_dataframe(create_groups(tools))"
   ]
  },
  {
   "cell_type": "code",
   "execution_count": null,
   "id": "bfc6fdfe-1ce8-466f-a12a-f13d27be824c",
   "metadata": {},
   "outputs": [],
   "source": []
  }
 ],
 "metadata": {
  "kernelspec": {
   "display_name": "Python 3 (ipykernel)",
   "language": "python",
   "name": "python3"
  },
  "language_info": {
   "codemirror_mode": {
    "name": "ipython",
    "version": 3
   },
   "file_extension": ".py",
   "mimetype": "text/x-python",
   "name": "python",
   "nbconvert_exporter": "python",
   "pygments_lexer": "ipython3",
   "version": "3.8.5"
  }
 },
 "nbformat": 4,
 "nbformat_minor": 5
}
